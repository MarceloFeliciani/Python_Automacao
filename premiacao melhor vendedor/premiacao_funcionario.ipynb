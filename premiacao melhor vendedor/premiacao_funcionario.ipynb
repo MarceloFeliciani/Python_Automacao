{
 "cells": [
  {
   "cell_type": "code",
   "execution_count": null,
   "metadata": {},
   "outputs": [],
   "source": [
    "\n",
    "###### AULA DO PORTAL HASHTAG TREINAMENTOS\n",
    "\n",
    "# A empresa tem 1000 vendedores e aquele que primeiramente vender R$ 55.000,00 ganhará uma viagem no final do ano com toda família como bonificação pela meta atingida.\n",
    "# Um programa em python vai ler seis bases de dados em excel, representando os meses de janeiro até junho, identificar assim que um vendedor bater a meta de R$ 55.000,00 em vendas e avisar por sms.\n"
   ]
  },
  {
   "cell_type": "code",
   "execution_count": null,
   "metadata": {},
   "outputs": [],
   "source": [
    "# biblioteca para análise de dados\n",
    "!pip install pandas"
   ]
  },
  {
   "cell_type": "code",
   "execution_count": null,
   "metadata": {},
   "outputs": [],
   "source": [
    "# integra o python com o excel\n",
    "!pip install openpyxl"
   ]
  },
  {
   "cell_type": "code",
   "execution_count": null,
   "metadata": {},
   "outputs": [],
   "source": [
    "# integração do python com sms\n",
    "!pip install twilio"
   ]
  },
  {
   "cell_type": "code",
   "execution_count": null,
   "metadata": {},
   "outputs": [],
   "source": [
    "import pandas as pd\n",
    "from twilio.rest import Client\n",
    "\n",
    "# Criar uma conta do Twilio e preencher os campo abaixo\n",
    "# Your Account SID from twilio.com/console. \n",
    "account_sid = \"ACXXXXXXXXXXXXXXXXXXXXXXXXXXXXXXXX\"\n",
    "# Your Auth Token from twilio.com/console\n",
    "auth_token  = \"ecfrXXXXXXXXXXXXXXXXXXXXXXXXXXXXXX\"\n",
    "client = Client(account_sid, auth_token) # conectará na conta"
   ]
  },
  {
   "cell_type": "code",
   "execution_count": null,
   "metadata": {},
   "outputs": [],
   "source": [
    "# https://www.twilio.com/docs/libraries/python\n",
    "\n",
    "lista_meses = [\"janeiro\", \"fevereiro\", \"março\", \"abril\", \"maio\", \"junho\"]\n",
    "\n",
    "for mes in lista_meses:\n",
    "    tabela_vendas = pd.read_excel(f\"{mes}.xlsx\")\n",
    "    if (tabela_vendas[\"Vendas\"] > 55000).any():  # se algum valor dentro da coluna vendas executar\n",
    "        vendedor = tabela_vendas.loc[tabela_vendas[\"Vendas\"] > 55000, \"Vendedor\"].values[0] # loc localiza uma linha e retorna em formato de tabela. o values[0] vai indicar para mostrar somente o valor\n",
    "        vendas = tabela_vendas.loc[tabela_vendas[\"Vendas\"] > 55000, \"Vendas\"].values[0] # loc localiza uma linha e retorna em formato de tabela. o values[0] vai indicar para mostrar somente o valor\n",
    "        print(f\"No mês de {mes} alguém bateu a meta. Vendedor: {vendedor}, Vendas: {vendas}\")\n",
    "        message = client.messages.create(\n",
    "            to=\"+15558675309\",  ######### indicar o celular que receberá a mensagem avisando do vendedor que atingiu a meta\n",
    "            from_=\"+15017250604\", ####### número da plataforma do twilio que será a origem do sms\n",
    "            body=f\"No mês de {mes} alguém bateu a meta. Vendedor: {vendedor}, Vendas: {vendas}\")\n",
    "        print(message.sid) ##### protocolo de envio da mensagem\n",
    " \n"
   ]
  },
  {
   "cell_type": "code",
   "execution_count": null,
   "metadata": {},
   "outputs": [],
   "source": [
    "\n",
    "\n",
    "\n",
    "\n"
   ]
  },
  {
   "cell_type": "code",
   "execution_count": null,
   "metadata": {},
   "outputs": [],
   "source": []
  }
 ],
 "metadata": {
  "kernelspec": {
   "display_name": "Python 3.8.2 64-bit",
   "language": "python",
   "name": "python38264bit6a434ccf4cbd411aa9abb0f2283574a5"
  },
  "language_info": {
   "codemirror_mode": {
    "name": "ipython",
    "version": 3
   },
   "file_extension": ".py",
   "mimetype": "text/x-python",
   "name": "python",
   "nbconvert_exporter": "python",
   "pygments_lexer": "ipython3",
   "version": "3.8.2"
  }
 },
 "nbformat": 4,
 "nbformat_minor": 4
}
